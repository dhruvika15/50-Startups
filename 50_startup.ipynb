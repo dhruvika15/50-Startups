{
  "cells": [
    {
      "cell_type": "markdown",
      "metadata": {
        "id": "view-in-github",
        "colab_type": "text"
      },
      "source": [
        "<a href=\"https://colab.research.google.com/github/dhruvika15/50-Startups/blob/main/multi_linear_regression_50_startup_(1).ipynb\" target=\"_parent\"><img src=\"https://colab.research.google.com/assets/colab-badge.svg\" alt=\"Open In Colab\"/></a>"
      ]
    },
    {
      "cell_type": "code",
      "execution_count": null,
      "id": "cda16169",
      "metadata": {
        "id": "cda16169"
      },
      "outputs": [],
      "source": [
        "import pandas"
      ]
    },
    {
      "cell_type": "code",
      "execution_count": null,
      "id": "1fc48d27",
      "metadata": {
        "id": "1fc48d27"
      },
      "outputs": [],
      "source": [
        "dataset = pandas.read_csv('50_Startups.csv')"
      ]
    },
    {
      "cell_type": "code",
      "execution_count": null,
      "id": "a84db6e8",
      "metadata": {
        "id": "a84db6e8",
        "outputId": "053d7eb0-a322-4990-c9cd-8fb396750083"
      },
      "outputs": [
        {
          "data": {
            "text/html": [
              "<div>\n",
              "<style scoped>\n",
              "    .dataframe tbody tr th:only-of-type {\n",
              "        vertical-align: middle;\n",
              "    }\n",
              "\n",
              "    .dataframe tbody tr th {\n",
              "        vertical-align: top;\n",
              "    }\n",
              "\n",
              "    .dataframe thead th {\n",
              "        text-align: right;\n",
              "    }\n",
              "</style>\n",
              "<table border=\"1\" class=\"dataframe\">\n",
              "  <thead>\n",
              "    <tr style=\"text-align: right;\">\n",
              "      <th></th>\n",
              "      <th>R&amp;D Spend</th>\n",
              "      <th>Administration</th>\n",
              "      <th>Marketing Spend</th>\n",
              "      <th>State</th>\n",
              "      <th>Profit</th>\n",
              "    </tr>\n",
              "  </thead>\n",
              "  <tbody>\n",
              "    <tr>\n",
              "      <th>0</th>\n",
              "      <td>165349.20</td>\n",
              "      <td>136897.80</td>\n",
              "      <td>471784.10</td>\n",
              "      <td>New York</td>\n",
              "      <td>192261.83</td>\n",
              "    </tr>\n",
              "    <tr>\n",
              "      <th>1</th>\n",
              "      <td>162597.70</td>\n",
              "      <td>151377.59</td>\n",
              "      <td>443898.53</td>\n",
              "      <td>California</td>\n",
              "      <td>191792.06</td>\n",
              "    </tr>\n",
              "    <tr>\n",
              "      <th>2</th>\n",
              "      <td>153441.51</td>\n",
              "      <td>101145.55</td>\n",
              "      <td>407934.54</td>\n",
              "      <td>Florida</td>\n",
              "      <td>191050.39</td>\n",
              "    </tr>\n",
              "    <tr>\n",
              "      <th>3</th>\n",
              "      <td>144372.41</td>\n",
              "      <td>118671.85</td>\n",
              "      <td>383199.62</td>\n",
              "      <td>New York</td>\n",
              "      <td>182901.99</td>\n",
              "    </tr>\n",
              "    <tr>\n",
              "      <th>4</th>\n",
              "      <td>142107.34</td>\n",
              "      <td>91391.77</td>\n",
              "      <td>366168.42</td>\n",
              "      <td>Florida</td>\n",
              "      <td>166187.94</td>\n",
              "    </tr>\n",
              "  </tbody>\n",
              "</table>\n",
              "</div>"
            ],
            "text/plain": [
              "   R&D Spend  Administration  Marketing Spend       State     Profit\n",
              "0  165349.20       136897.80        471784.10    New York  192261.83\n",
              "1  162597.70       151377.59        443898.53  California  191792.06\n",
              "2  153441.51       101145.55        407934.54     Florida  191050.39\n",
              "3  144372.41       118671.85        383199.62    New York  182901.99\n",
              "4  142107.34        91391.77        366168.42     Florida  166187.94"
            ]
          },
          "execution_count": 3,
          "metadata": {},
          "output_type": "execute_result"
        }
      ],
      "source": [
        "dataset.head()"
      ]
    },
    {
      "cell_type": "code",
      "execution_count": null,
      "id": "32bd04dd",
      "metadata": {
        "id": "32bd04dd",
        "outputId": "14e6fdf6-725b-4b8a-ce2c-619a868857c2"
      },
      "outputs": [
        {
          "name": "stdout",
          "output_type": "stream",
          "text": [
            "<class 'pandas.core.frame.DataFrame'>\n",
            "RangeIndex: 50 entries, 0 to 49\n",
            "Data columns (total 5 columns):\n",
            " #   Column           Non-Null Count  Dtype  \n",
            "---  ------           --------------  -----  \n",
            " 0   R&D Spend        50 non-null     float64\n",
            " 1   Administration   50 non-null     float64\n",
            " 2   Marketing Spend  50 non-null     float64\n",
            " 3   State            50 non-null     object \n",
            " 4   Profit           50 non-null     float64\n",
            "dtypes: float64(4), object(1)\n",
            "memory usage: 2.1+ KB\n"
          ]
        }
      ],
      "source": [
        "dataset.info()"
      ]
    },
    {
      "cell_type": "code",
      "execution_count": null,
      "id": "0cde09e1",
      "metadata": {
        "id": "0cde09e1",
        "outputId": "d5dda1ee-5339-498b-f7b8-d6ace7d5484a"
      },
      "outputs": [
        {
          "data": {
            "text/plain": [
              "Index(['R&D Spend', 'Administration', 'Marketing Spend', 'State', 'Profit'], dtype='object')"
            ]
          },
          "execution_count": 15,
          "metadata": {},
          "output_type": "execute_result"
        }
      ],
      "source": [
        "dataset.columns"
      ]
    },
    {
      "cell_type": "code",
      "execution_count": null,
      "id": "7aab02bb",
      "metadata": {
        "id": "7aab02bb"
      },
      "outputs": [],
      "source": [
        "state = dataset['State']"
      ]
    },
    {
      "cell_type": "code",
      "execution_count": null,
      "id": "64ed748b",
      "metadata": {
        "id": "64ed748b"
      },
      "outputs": [],
      "source": [
        "from sklearn.preprocessing import LabelEncoder"
      ]
    },
    {
      "cell_type": "code",
      "execution_count": null,
      "id": "8b7cdd4d",
      "metadata": {
        "id": "8b7cdd4d"
      },
      "outputs": [],
      "source": [
        "state_le = LabelEncoder()"
      ]
    },
    {
      "cell_type": "code",
      "execution_count": null,
      "id": "a1d4d8ab",
      "metadata": {
        "id": "a1d4d8ab"
      },
      "outputs": [],
      "source": [
        "state_le_final  = state_le.fit_transform(state)"
      ]
    },
    {
      "cell_type": "code",
      "execution_count": null,
      "id": "95e3a3ed",
      "metadata": {
        "id": "95e3a3ed",
        "outputId": "37489c57-f143-4a03-91da-131c4c501258"
      },
      "outputs": [
        {
          "data": {
            "text/plain": [
              "array([2, 0, 1, 2, 1, 2, 0, 1, 2, 0, 1, 0, 1, 0, 1, 2, 0, 2, 1, 2, 0, 2,\n",
              "       1, 1, 2, 0, 1, 2, 1, 2, 1, 2, 0, 1, 0, 2, 1, 0, 2, 0, 0, 1, 0, 2,\n",
              "       0, 2, 1, 0, 2, 0])"
            ]
          },
          "execution_count": 8,
          "metadata": {},
          "output_type": "execute_result"
        }
      ],
      "source": [
        "state_le_final"
      ]
    },
    {
      "cell_type": "code",
      "execution_count": null,
      "id": "7e2bddee",
      "metadata": {
        "id": "7e2bddee",
        "outputId": "97b4fee4-6d6b-43b3-9722-36fbebb48201"
      },
      "outputs": [
        {
          "data": {
            "text/plain": [
              "(50,)"
            ]
          },
          "execution_count": 9,
          "metadata": {},
          "output_type": "execute_result"
        }
      ],
      "source": [
        "state_le_final.shape"
      ]
    },
    {
      "cell_type": "code",
      "execution_count": null,
      "id": "9946328f",
      "metadata": {
        "id": "9946328f"
      },
      "outputs": [],
      "source": [
        "state_le_final_2d =   state_le_final.reshape(-1, 1)"
      ]
    },
    {
      "cell_type": "code",
      "execution_count": null,
      "id": "80ce0531",
      "metadata": {
        "id": "80ce0531",
        "outputId": "6d7e5284-9ff0-4bb6-cedd-441ad39fce8d"
      },
      "outputs": [
        {
          "data": {
            "text/plain": [
              "(50, 1)"
            ]
          },
          "execution_count": 11,
          "metadata": {},
          "output_type": "execute_result"
        }
      ],
      "source": [
        "state_le_final_2d.shape"
      ]
    },
    {
      "cell_type": "code",
      "execution_count": null,
      "id": "993240e2",
      "metadata": {
        "id": "993240e2"
      },
      "outputs": [],
      "source": [
        ""
      ]
    },
    {
      "cell_type": "code",
      "execution_count": null,
      "id": "7b946574",
      "metadata": {
        "id": "7b946574"
      },
      "outputs": [],
      "source": [
        ""
      ]
    },
    {
      "cell_type": "code",
      "execution_count": null,
      "id": "b890a6b5",
      "metadata": {
        "id": "b890a6b5"
      },
      "outputs": [],
      "source": [
        "from sklearn.preprocessing import OneHotEncoder"
      ]
    },
    {
      "cell_type": "code",
      "execution_count": null,
      "id": "cec2dcd2",
      "metadata": {
        "id": "cec2dcd2"
      },
      "outputs": [],
      "source": [
        "state_ohe = OneHotEncoder()"
      ]
    },
    {
      "cell_type": "code",
      "execution_count": null,
      "id": "f06391e9",
      "metadata": {
        "id": "f06391e9"
      },
      "outputs": [],
      "source": [
        "state_dump = state_ohe.fit_transform(state_le_final_2d)"
      ]
    },
    {
      "cell_type": "code",
      "execution_count": null,
      "id": "f4ecaefd",
      "metadata": {
        "id": "f4ecaefd",
        "outputId": "e252f18e-b4d8-4c90-c846-d4548c7c8d37"
      },
      "outputs": [
        {
          "data": {
            "text/plain": [
              "<50x3 sparse matrix of type '<class 'numpy.float64'>'\n",
              "\twith 50 stored elements in Compressed Sparse Row format>"
            ]
          },
          "execution_count": 15,
          "metadata": {},
          "output_type": "execute_result"
        }
      ],
      "source": [
        "state_dump"
      ]
    },
    {
      "cell_type": "code",
      "execution_count": null,
      "id": "c71b9a23",
      "metadata": {
        "id": "c71b9a23"
      },
      "outputs": [],
      "source": [
        "state_final = state_dump.toarray()"
      ]
    },
    {
      "cell_type": "code",
      "execution_count": null,
      "id": "a9660924",
      "metadata": {
        "id": "a9660924",
        "outputId": "b5af8cef-51a6-4a9c-fdfc-9d072ddcae0f"
      },
      "outputs": [
        {
          "data": {
            "text/plain": [
              "(50, 3)"
            ]
          },
          "execution_count": 40,
          "metadata": {},
          "output_type": "execute_result"
        }
      ],
      "source": [
        "state_final.shape"
      ]
    },
    {
      "cell_type": "code",
      "execution_count": null,
      "id": "b07ba549",
      "metadata": {
        "id": "b07ba549",
        "outputId": "84754445-84be-439b-dca7-dda702932e7d"
      },
      "outputs": [
        {
          "data": {
            "text/plain": [
              "array([[0., 0., 1.],\n",
              "       [1., 0., 0.],\n",
              "       [0., 1., 0.],\n",
              "       [0., 0., 1.],\n",
              "       [0., 1., 0.],\n",
              "       [0., 0., 1.],\n",
              "       [1., 0., 0.],\n",
              "       [0., 1., 0.],\n",
              "       [0., 0., 1.],\n",
              "       [1., 0., 0.],\n",
              "       [0., 1., 0.],\n",
              "       [1., 0., 0.],\n",
              "       [0., 1., 0.],\n",
              "       [1., 0., 0.],\n",
              "       [0., 1., 0.],\n",
              "       [0., 0., 1.],\n",
              "       [1., 0., 0.],\n",
              "       [0., 0., 1.],\n",
              "       [0., 1., 0.],\n",
              "       [0., 0., 1.],\n",
              "       [1., 0., 0.],\n",
              "       [0., 0., 1.],\n",
              "       [0., 1., 0.],\n",
              "       [0., 1., 0.],\n",
              "       [0., 0., 1.],\n",
              "       [1., 0., 0.],\n",
              "       [0., 1., 0.],\n",
              "       [0., 0., 1.],\n",
              "       [0., 1., 0.],\n",
              "       [0., 0., 1.],\n",
              "       [0., 1., 0.],\n",
              "       [0., 0., 1.],\n",
              "       [1., 0., 0.],\n",
              "       [0., 1., 0.],\n",
              "       [1., 0., 0.],\n",
              "       [0., 0., 1.],\n",
              "       [0., 1., 0.],\n",
              "       [1., 0., 0.],\n",
              "       [0., 0., 1.],\n",
              "       [1., 0., 0.],\n",
              "       [1., 0., 0.],\n",
              "       [0., 1., 0.],\n",
              "       [1., 0., 0.],\n",
              "       [0., 0., 1.],\n",
              "       [1., 0., 0.],\n",
              "       [0., 0., 1.],\n",
              "       [0., 1., 0.],\n",
              "       [1., 0., 0.],\n",
              "       [0., 0., 1.],\n",
              "       [1., 0., 0.]])"
            ]
          },
          "execution_count": 41,
          "metadata": {},
          "output_type": "execute_result"
        }
      ],
      "source": [
        "state_final"
      ]
    },
    {
      "cell_type": "code",
      "execution_count": null,
      "id": "06573e2f",
      "metadata": {
        "id": "06573e2f"
      },
      "outputs": [],
      "source": [
        "# solve dummy variable trap : Multicollinearity : \n",
        "# every state: IV : into model\n",
        "state_final_trap = state_final[: , 0:2  ]"
      ]
    },
    {
      "cell_type": "code",
      "execution_count": null,
      "id": "89a9d024",
      "metadata": {
        "id": "89a9d024",
        "outputId": "8f458e65-6145-4aca-c547-7d20338f8385"
      },
      "outputs": [
        {
          "data": {
            "text/plain": [
              "(50, 2)"
            ]
          },
          "execution_count": 27,
          "metadata": {},
          "output_type": "execute_result"
        }
      ],
      "source": [
        "state_final_trap.shape"
      ]
    },
    {
      "cell_type": "code",
      "execution_count": null,
      "id": "07095771",
      "metadata": {
        "id": "07095771"
      },
      "outputs": [],
      "source": [
        "y = dataset['Profit']"
      ]
    },
    {
      "cell_type": "code",
      "execution_count": null,
      "id": "c19812be",
      "metadata": {
        "id": "c19812be"
      },
      "outputs": [],
      "source": [
        "X = dataset[ ['R&D Spend', 'Administration', 'Marketing Spend'] ] "
      ]
    },
    {
      "cell_type": "code",
      "execution_count": null,
      "id": "ff8dad90",
      "metadata": {
        "id": "ff8dad90",
        "outputId": "f36981ed-ea13-47c9-9e74-37a590db6415"
      },
      "outputs": [
        {
          "data": {
            "text/plain": [
              "(50, 3)"
            ]
          },
          "execution_count": 30,
          "metadata": {},
          "output_type": "execute_result"
        }
      ],
      "source": [
        "# predictor : x1, x2, x3, \n",
        "X.shape"
      ]
    },
    {
      "cell_type": "code",
      "execution_count": null,
      "id": "03ee1986",
      "metadata": {
        "id": "03ee1986"
      },
      "outputs": [],
      "source": [
        "import numpy"
      ]
    },
    {
      "cell_type": "code",
      "execution_count": null,
      "id": "38abb86a",
      "metadata": {
        "id": "38abb86a"
      },
      "outputs": [],
      "source": [
        "X_final = numpy.hstack( (X , state_final_trap)  )"
      ]
    },
    {
      "cell_type": "code",
      "execution_count": null,
      "id": "c7cdcc94",
      "metadata": {
        "id": "c7cdcc94",
        "outputId": "c6ffced2-5ea2-41e1-fd08-8998ef9cad0d"
      },
      "outputs": [
        {
          "data": {
            "text/plain": [
              "array([[1.6534920e+05, 1.3689780e+05, 4.7178410e+05, 0.0000000e+00,\n",
              "        0.0000000e+00],\n",
              "       [1.6259770e+05, 1.5137759e+05, 4.4389853e+05, 1.0000000e+00,\n",
              "        0.0000000e+00],\n",
              "       [1.5344151e+05, 1.0114555e+05, 4.0793454e+05, 0.0000000e+00,\n",
              "        1.0000000e+00],\n",
              "       [1.4437241e+05, 1.1867185e+05, 3.8319962e+05, 0.0000000e+00,\n",
              "        0.0000000e+00],\n",
              "       [1.4210734e+05, 9.1391770e+04, 3.6616842e+05, 0.0000000e+00,\n",
              "        1.0000000e+00],\n",
              "       [1.3187690e+05, 9.9814710e+04, 3.6286136e+05, 0.0000000e+00,\n",
              "        0.0000000e+00],\n",
              "       [1.3461546e+05, 1.4719887e+05, 1.2771682e+05, 1.0000000e+00,\n",
              "        0.0000000e+00],\n",
              "       [1.3029813e+05, 1.4553006e+05, 3.2387668e+05, 0.0000000e+00,\n",
              "        1.0000000e+00],\n",
              "       [1.2054252e+05, 1.4871895e+05, 3.1161329e+05, 0.0000000e+00,\n",
              "        0.0000000e+00],\n",
              "       [1.2333488e+05, 1.0867917e+05, 3.0498162e+05, 1.0000000e+00,\n",
              "        0.0000000e+00],\n",
              "       [1.0191308e+05, 1.1059411e+05, 2.2916095e+05, 0.0000000e+00,\n",
              "        1.0000000e+00],\n",
              "       [1.0067196e+05, 9.1790610e+04, 2.4974455e+05, 1.0000000e+00,\n",
              "        0.0000000e+00],\n",
              "       [9.3863750e+04, 1.2732038e+05, 2.4983944e+05, 0.0000000e+00,\n",
              "        1.0000000e+00],\n",
              "       [9.1992390e+04, 1.3549507e+05, 2.5266493e+05, 1.0000000e+00,\n",
              "        0.0000000e+00],\n",
              "       [1.1994324e+05, 1.5654742e+05, 2.5651292e+05, 0.0000000e+00,\n",
              "        1.0000000e+00],\n",
              "       [1.1452361e+05, 1.2261684e+05, 2.6177623e+05, 0.0000000e+00,\n",
              "        0.0000000e+00],\n",
              "       [7.8013110e+04, 1.2159755e+05, 2.6434606e+05, 1.0000000e+00,\n",
              "        0.0000000e+00],\n",
              "       [9.4657160e+04, 1.4507758e+05, 2.8257431e+05, 0.0000000e+00,\n",
              "        0.0000000e+00],\n",
              "       [9.1749160e+04, 1.1417579e+05, 2.9491957e+05, 0.0000000e+00,\n",
              "        1.0000000e+00],\n",
              "       [8.6419700e+04, 1.5351411e+05, 0.0000000e+00, 0.0000000e+00,\n",
              "        0.0000000e+00],\n",
              "       [7.6253860e+04, 1.1386730e+05, 2.9866447e+05, 1.0000000e+00,\n",
              "        0.0000000e+00],\n",
              "       [7.8389470e+04, 1.5377343e+05, 2.9973729e+05, 0.0000000e+00,\n",
              "        0.0000000e+00],\n",
              "       [7.3994560e+04, 1.2278275e+05, 3.0331926e+05, 0.0000000e+00,\n",
              "        1.0000000e+00],\n",
              "       [6.7532530e+04, 1.0575103e+05, 3.0476873e+05, 0.0000000e+00,\n",
              "        1.0000000e+00],\n",
              "       [7.7044010e+04, 9.9281340e+04, 1.4057481e+05, 0.0000000e+00,\n",
              "        0.0000000e+00],\n",
              "       [6.4664710e+04, 1.3955316e+05, 1.3796262e+05, 1.0000000e+00,\n",
              "        0.0000000e+00],\n",
              "       [7.5328870e+04, 1.4413598e+05, 1.3405007e+05, 0.0000000e+00,\n",
              "        1.0000000e+00],\n",
              "       [7.2107600e+04, 1.2786455e+05, 3.5318381e+05, 0.0000000e+00,\n",
              "        0.0000000e+00],\n",
              "       [6.6051520e+04, 1.8264556e+05, 1.1814820e+05, 0.0000000e+00,\n",
              "        1.0000000e+00],\n",
              "       [6.5605480e+04, 1.5303206e+05, 1.0713838e+05, 0.0000000e+00,\n",
              "        0.0000000e+00],\n",
              "       [6.1994480e+04, 1.1564128e+05, 9.1131240e+04, 0.0000000e+00,\n",
              "        1.0000000e+00],\n",
              "       [6.1136380e+04, 1.5270192e+05, 8.8218230e+04, 0.0000000e+00,\n",
              "        0.0000000e+00],\n",
              "       [6.3408860e+04, 1.2921961e+05, 4.6085250e+04, 1.0000000e+00,\n",
              "        0.0000000e+00],\n",
              "       [5.5493950e+04, 1.0305749e+05, 2.1463481e+05, 0.0000000e+00,\n",
              "        1.0000000e+00],\n",
              "       [4.6426070e+04, 1.5769392e+05, 2.1079767e+05, 1.0000000e+00,\n",
              "        0.0000000e+00],\n",
              "       [4.6014020e+04, 8.5047440e+04, 2.0551764e+05, 0.0000000e+00,\n",
              "        0.0000000e+00],\n",
              "       [2.8663760e+04, 1.2705621e+05, 2.0112682e+05, 0.0000000e+00,\n",
              "        1.0000000e+00],\n",
              "       [4.4069950e+04, 5.1283140e+04, 1.9702942e+05, 1.0000000e+00,\n",
              "        0.0000000e+00],\n",
              "       [2.0229590e+04, 6.5947930e+04, 1.8526510e+05, 0.0000000e+00,\n",
              "        0.0000000e+00],\n",
              "       [3.8558510e+04, 8.2982090e+04, 1.7499930e+05, 1.0000000e+00,\n",
              "        0.0000000e+00],\n",
              "       [2.8754330e+04, 1.1854605e+05, 1.7279567e+05, 1.0000000e+00,\n",
              "        0.0000000e+00],\n",
              "       [2.7892920e+04, 8.4710770e+04, 1.6447071e+05, 0.0000000e+00,\n",
              "        1.0000000e+00],\n",
              "       [2.3640930e+04, 9.6189630e+04, 1.4800111e+05, 1.0000000e+00,\n",
              "        0.0000000e+00],\n",
              "       [1.5505730e+04, 1.2738230e+05, 3.5534170e+04, 0.0000000e+00,\n",
              "        0.0000000e+00],\n",
              "       [2.2177740e+04, 1.5480614e+05, 2.8334720e+04, 1.0000000e+00,\n",
              "        0.0000000e+00],\n",
              "       [1.0002300e+03, 1.2415304e+05, 1.9039300e+03, 0.0000000e+00,\n",
              "        0.0000000e+00],\n",
              "       [1.3154600e+03, 1.1581621e+05, 2.9711446e+05, 0.0000000e+00,\n",
              "        1.0000000e+00],\n",
              "       [0.0000000e+00, 1.3542692e+05, 0.0000000e+00, 1.0000000e+00,\n",
              "        0.0000000e+00],\n",
              "       [5.4205000e+02, 5.1743150e+04, 0.0000000e+00, 0.0000000e+00,\n",
              "        0.0000000e+00],\n",
              "       [0.0000000e+00, 1.1698380e+05, 4.5173060e+04, 1.0000000e+00,\n",
              "        0.0000000e+00]])"
            ]
          },
          "execution_count": 34,
          "metadata": {},
          "output_type": "execute_result"
        }
      ],
      "source": [
        "X_final"
      ]
    },
    {
      "cell_type": "code",
      "execution_count": null,
      "id": "4f065b0d",
      "metadata": {
        "id": "4f065b0d"
      },
      "outputs": [],
      "source": [
        "from sklearn.linear_model import LinearRegression"
      ]
    },
    {
      "cell_type": "code",
      "execution_count": null,
      "id": "958e8db6",
      "metadata": {
        "id": "958e8db6"
      },
      "outputs": [],
      "source": [
        "# y = b + w1x1 + w2x2 + .... wnxn \n",
        "model = LinearRegression()"
      ]
    },
    {
      "cell_type": "code",
      "execution_count": null,
      "id": "9cb550c9",
      "metadata": {
        "id": "9cb550c9",
        "outputId": "e74c3467-90d1-4cbe-a195-e16193fcddb9"
      },
      "outputs": [
        {
          "data": {
            "text/plain": [
              "LinearRegression()"
            ]
          },
          "execution_count": 37,
          "metadata": {},
          "output_type": "execute_result"
        }
      ],
      "source": [
        "# find all weight ......\n",
        "model.fit(X_final ,y)"
      ]
    },
    {
      "cell_type": "code",
      "execution_count": null,
      "id": "5c7f7f1e",
      "metadata": {
        "id": "5c7f7f1e",
        "outputId": "02d5d3a4-9e4c-491c-98a0-17259e003f95"
      },
      "outputs": [
        {
          "data": {
            "text/plain": [
              "array([ 8.06023114e-01, -2.70043196e-02,  2.69798610e-02,  4.18870191e+01,\n",
              "        2.40675812e+02])"
            ]
          },
          "execution_count": 38,
          "metadata": {},
          "output_type": "execute_result"
        }
      ],
      "source": [
        "model.coef_"
      ]
    },
    {
      "cell_type": "code",
      "execution_count": null,
      "id": "d0d8169c",
      "metadata": {
        "id": "d0d8169c",
        "outputId": "65a7f98e-d739-4af3-eb96-efd176adeb9b"
      },
      "outputs": [
        {
          "data": {
            "text/plain": [
              "array([[1.6534920e+05, 1.3689780e+05, 4.7178410e+05, 0.0000000e+00,\n",
              "        0.0000000e+00],\n",
              "       [1.6259770e+05, 1.5137759e+05, 4.4389853e+05, 1.0000000e+00,\n",
              "        0.0000000e+00],\n",
              "       [1.5344151e+05, 1.0114555e+05, 4.0793454e+05, 0.0000000e+00,\n",
              "        1.0000000e+00],\n",
              "       [1.4437241e+05, 1.1867185e+05, 3.8319962e+05, 0.0000000e+00,\n",
              "        0.0000000e+00],\n",
              "       [1.4210734e+05, 9.1391770e+04, 3.6616842e+05, 0.0000000e+00,\n",
              "        1.0000000e+00],\n",
              "       [1.3187690e+05, 9.9814710e+04, 3.6286136e+05, 0.0000000e+00,\n",
              "        0.0000000e+00],\n",
              "       [1.3461546e+05, 1.4719887e+05, 1.2771682e+05, 1.0000000e+00,\n",
              "        0.0000000e+00],\n",
              "       [1.3029813e+05, 1.4553006e+05, 3.2387668e+05, 0.0000000e+00,\n",
              "        1.0000000e+00],\n",
              "       [1.2054252e+05, 1.4871895e+05, 3.1161329e+05, 0.0000000e+00,\n",
              "        0.0000000e+00],\n",
              "       [1.2333488e+05, 1.0867917e+05, 3.0498162e+05, 1.0000000e+00,\n",
              "        0.0000000e+00],\n",
              "       [1.0191308e+05, 1.1059411e+05, 2.2916095e+05, 0.0000000e+00,\n",
              "        1.0000000e+00],\n",
              "       [1.0067196e+05, 9.1790610e+04, 2.4974455e+05, 1.0000000e+00,\n",
              "        0.0000000e+00],\n",
              "       [9.3863750e+04, 1.2732038e+05, 2.4983944e+05, 0.0000000e+00,\n",
              "        1.0000000e+00],\n",
              "       [9.1992390e+04, 1.3549507e+05, 2.5266493e+05, 1.0000000e+00,\n",
              "        0.0000000e+00],\n",
              "       [1.1994324e+05, 1.5654742e+05, 2.5651292e+05, 0.0000000e+00,\n",
              "        1.0000000e+00],\n",
              "       [1.1452361e+05, 1.2261684e+05, 2.6177623e+05, 0.0000000e+00,\n",
              "        0.0000000e+00],\n",
              "       [7.8013110e+04, 1.2159755e+05, 2.6434606e+05, 1.0000000e+00,\n",
              "        0.0000000e+00],\n",
              "       [9.4657160e+04, 1.4507758e+05, 2.8257431e+05, 0.0000000e+00,\n",
              "        0.0000000e+00],\n",
              "       [9.1749160e+04, 1.1417579e+05, 2.9491957e+05, 0.0000000e+00,\n",
              "        1.0000000e+00],\n",
              "       [8.6419700e+04, 1.5351411e+05, 0.0000000e+00, 0.0000000e+00,\n",
              "        0.0000000e+00],\n",
              "       [7.6253860e+04, 1.1386730e+05, 2.9866447e+05, 1.0000000e+00,\n",
              "        0.0000000e+00],\n",
              "       [7.8389470e+04, 1.5377343e+05, 2.9973729e+05, 0.0000000e+00,\n",
              "        0.0000000e+00],\n",
              "       [7.3994560e+04, 1.2278275e+05, 3.0331926e+05, 0.0000000e+00,\n",
              "        1.0000000e+00],\n",
              "       [6.7532530e+04, 1.0575103e+05, 3.0476873e+05, 0.0000000e+00,\n",
              "        1.0000000e+00],\n",
              "       [7.7044010e+04, 9.9281340e+04, 1.4057481e+05, 0.0000000e+00,\n",
              "        0.0000000e+00],\n",
              "       [6.4664710e+04, 1.3955316e+05, 1.3796262e+05, 1.0000000e+00,\n",
              "        0.0000000e+00],\n",
              "       [7.5328870e+04, 1.4413598e+05, 1.3405007e+05, 0.0000000e+00,\n",
              "        1.0000000e+00],\n",
              "       [7.2107600e+04, 1.2786455e+05, 3.5318381e+05, 0.0000000e+00,\n",
              "        0.0000000e+00],\n",
              "       [6.6051520e+04, 1.8264556e+05, 1.1814820e+05, 0.0000000e+00,\n",
              "        1.0000000e+00],\n",
              "       [6.5605480e+04, 1.5303206e+05, 1.0713838e+05, 0.0000000e+00,\n",
              "        0.0000000e+00],\n",
              "       [6.1994480e+04, 1.1564128e+05, 9.1131240e+04, 0.0000000e+00,\n",
              "        1.0000000e+00],\n",
              "       [6.1136380e+04, 1.5270192e+05, 8.8218230e+04, 0.0000000e+00,\n",
              "        0.0000000e+00],\n",
              "       [6.3408860e+04, 1.2921961e+05, 4.6085250e+04, 1.0000000e+00,\n",
              "        0.0000000e+00],\n",
              "       [5.5493950e+04, 1.0305749e+05, 2.1463481e+05, 0.0000000e+00,\n",
              "        1.0000000e+00],\n",
              "       [4.6426070e+04, 1.5769392e+05, 2.1079767e+05, 1.0000000e+00,\n",
              "        0.0000000e+00],\n",
              "       [4.6014020e+04, 8.5047440e+04, 2.0551764e+05, 0.0000000e+00,\n",
              "        0.0000000e+00],\n",
              "       [2.8663760e+04, 1.2705621e+05, 2.0112682e+05, 0.0000000e+00,\n",
              "        1.0000000e+00],\n",
              "       [4.4069950e+04, 5.1283140e+04, 1.9702942e+05, 1.0000000e+00,\n",
              "        0.0000000e+00],\n",
              "       [2.0229590e+04, 6.5947930e+04, 1.8526510e+05, 0.0000000e+00,\n",
              "        0.0000000e+00],\n",
              "       [3.8558510e+04, 8.2982090e+04, 1.7499930e+05, 1.0000000e+00,\n",
              "        0.0000000e+00],\n",
              "       [2.8754330e+04, 1.1854605e+05, 1.7279567e+05, 1.0000000e+00,\n",
              "        0.0000000e+00],\n",
              "       [2.7892920e+04, 8.4710770e+04, 1.6447071e+05, 0.0000000e+00,\n",
              "        1.0000000e+00],\n",
              "       [2.3640930e+04, 9.6189630e+04, 1.4800111e+05, 1.0000000e+00,\n",
              "        0.0000000e+00],\n",
              "       [1.5505730e+04, 1.2738230e+05, 3.5534170e+04, 0.0000000e+00,\n",
              "        0.0000000e+00],\n",
              "       [2.2177740e+04, 1.5480614e+05, 2.8334720e+04, 1.0000000e+00,\n",
              "        0.0000000e+00],\n",
              "       [1.0002300e+03, 1.2415304e+05, 1.9039300e+03, 0.0000000e+00,\n",
              "        0.0000000e+00],\n",
              "       [1.3154600e+03, 1.1581621e+05, 2.9711446e+05, 0.0000000e+00,\n",
              "        1.0000000e+00],\n",
              "       [0.0000000e+00, 1.3542692e+05, 0.0000000e+00, 1.0000000e+00,\n",
              "        0.0000000e+00],\n",
              "       [5.4205000e+02, 5.1743150e+04, 0.0000000e+00, 0.0000000e+00,\n",
              "        0.0000000e+00],\n",
              "       [0.0000000e+00, 1.1698380e+05, 4.5173060e+04, 1.0000000e+00,\n",
              "        0.0000000e+00]])"
            ]
          },
          "execution_count": 39,
          "metadata": {},
          "output_type": "execute_result"
        }
      ],
      "source": [
        "X_final"
      ]
    },
    {
      "cell_type": "code",
      "execution_count": null,
      "id": "6995e294",
      "metadata": {
        "id": "6995e294"
      },
      "outputs": [],
      "source": [
        ""
      ]
    }
  ],
  "metadata": {
    "kernelspec": {
      "display_name": "Python 3",
      "language": "python",
      "name": "python3"
    },
    "language_info": {
      "codemirror_mode": {
        "name": "ipython",
        "version": 3
      },
      "file_extension": ".py",
      "mimetype": "text/x-python",
      "name": "python",
      "nbconvert_exporter": "python",
      "pygments_lexer": "ipython3",
      "version": "3.8.8"
    },
    "colab": {
      "name": "multi linear regression 50 startup (1).ipynb",
      "provenance": [],
      "include_colab_link": true
    }
  },
  "nbformat": 4,
  "nbformat_minor": 5
}
